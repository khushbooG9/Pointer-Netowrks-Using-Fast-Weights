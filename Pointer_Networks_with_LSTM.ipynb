{
  "nbformat": 4,
  "nbformat_minor": 0,
  "metadata": {
    "colab": {
      "name": "Pointer_Networks with LSTM.ipynb",
      "version": "0.3.2",
      "provenance": [],
      "collapsed_sections": [],
      "include_colab_link": true
    },
    "language_info": {
      "codemirror_mode": {
        "name": "ipython",
        "version": 3
      },
      "file_extension": ".py",
      "mimetype": "text/x-python",
      "name": "python",
      "nbconvert_exporter": "python",
      "pygments_lexer": "ipython3",
      "version": "3.6.8"
    },
    "kernelspec": {
      "name": "python3",
      "display_name": "Python 3"
    },
    "accelerator": "GPU"
  },
  "cells": [
    {
      "cell_type": "markdown",
      "metadata": {
        "id": "view-in-github",
        "colab_type": "text"
      },
      "source": [
        "<a href=\"https://colab.research.google.com/github/khushbooG9/Pointer-Networks-Using-Fast-Weights/blob/master/Pointer_Networks_with_LSTM.ipynb\" target=\"_parent\"><img src=\"https://colab.research.google.com/assets/colab-badge.svg\" alt=\"Open In Colab\"/></a>"
      ]
    },
    {
      "metadata": {
        "colab_type": "code",
        "id": "zWFaAnmetOTr",
        "colab": {}
      },
      "cell_type": "code",
      "source": [
        "from __future__ import print_function\n",
        "\n",
        "import numpy as np\n",
        "import tensorflow as tf\n",
        "from tensorflow.keras import layers\n",
        "import matplotlib.pyplot as plt\n",
        "\n",
        "tf.enable_eager_execution()"
      ],
      "execution_count": 0,
      "outputs": []
    },
    {
      "metadata": {
        "id": "YtdXLAMWr0K1",
        "colab_type": "code",
        "colab": {}
      },
      "cell_type": "code",
      "source": [
        "np.random.seed(42)\n",
        "tf.random.set_random_seed(42)"
      ],
      "execution_count": 0,
      "outputs": []
    },
    {
      "metadata": {
        "colab_type": "text",
        "id": "wmYMjSIyL2F8"
      },
      "cell_type": "markdown",
      "source": [
        "### Prepare dataset"
      ]
    },
    {
      "metadata": {
        "id": "tbt9vWF3r0K4",
        "colab_type": "code",
        "colab": {
          "base_uri": "https://localhost:8080/",
          "height": 34
        },
        "outputId": "34dc2b65-cfed-4a1c-e4e0-979735f861e2"
      },
      "cell_type": "code",
      "source": [
        "datasize=32*200\n",
        "\n",
        "minSeqSize=3\n",
        "maxSeqSize=3\n",
        "np.random.seed(42)\n",
        "tf.random.set_random_seed(42)\n",
        "\n",
        "dataX=[]\n",
        "\n",
        "for aRec in range(datasize):\n",
        "    seqLen=np.random.randint(minSeqSize,maxSeqSize+1)\n",
        "    aSeq=np.concatenate((np.zeros((1,seqLen),dtype=np.float32),np.random.uniform(size=(1,seqLen)),np.zeros((1,seqLen),dtype=np.float32)),axis=0).T\n",
        "    aSeq1=np.concatenate((np.array([[1,0,0]],dtype=np.float32),aSeq),axis=0)\n",
        "    dataX+=[aSeq1]\n",
        "    \n",
        "dataX=np.array(dataX,dtype=np.float32)\n",
        "encoder_input_data=dataX\n",
        "encoder_input_data.shape"
      ],
      "execution_count": 3,
      "outputs": [
        {
          "output_type": "execute_result",
          "data": {
            "text/plain": [
              "(6400, 4, 3)"
            ]
          },
          "metadata": {
            "tags": []
          },
          "execution_count": 3
        }
      ]
    },
    {
      "metadata": {
        "id": "IrswC_jTr0K7",
        "colab_type": "code",
        "colab": {
          "base_uri": "https://localhost:8080/",
          "height": 85
        },
        "outputId": "5e884f71-b5ab-4a02-f665-fcb205d38dd8"
      },
      "cell_type": "code",
      "source": [
        "input_encoder=encoder_input_data[0]\n",
        "input_encoder"
      ],
      "execution_count": 4,
      "outputs": [
        {
          "output_type": "execute_result",
          "data": {
            "text/plain": [
              "array([[1.        , 0.        , 0.        ],\n",
              "       [0.        , 0.37454012, 0.        ],\n",
              "       [0.        , 0.9507143 , 0.        ],\n",
              "       [0.        , 0.7319939 , 0.        ]], dtype=float32)"
            ]
          },
          "metadata": {
            "tags": []
          },
          "execution_count": 4
        }
      ]
    },
    {
      "metadata": {
        "id": "9LVsMsRDr0K-",
        "colab_type": "code",
        "colab": {
          "base_uri": "https://localhost:8080/",
          "height": 425
        },
        "outputId": "1447ad94-9826-4116-ebd4-3eb022e1b234"
      },
      "cell_type": "code",
      "source": [
        "encoder_input_data[:5]"
      ],
      "execution_count": 5,
      "outputs": [
        {
          "output_type": "execute_result",
          "data": {
            "text/plain": [
              "array([[[1.        , 0.        , 0.        ],\n",
              "        [0.        , 0.37454012, 0.        ],\n",
              "        [0.        , 0.9507143 , 0.        ],\n",
              "        [0.        , 0.7319939 , 0.        ]],\n",
              "\n",
              "       [[1.        , 0.        , 0.        ],\n",
              "        [0.        , 0.5986585 , 0.        ],\n",
              "        [0.        , 0.15601864, 0.        ],\n",
              "        [0.        , 0.15599452, 0.        ]],\n",
              "\n",
              "       [[1.        , 0.        , 0.        ],\n",
              "        [0.        , 0.05808361, 0.        ],\n",
              "        [0.        , 0.8661761 , 0.        ],\n",
              "        [0.        , 0.601115  , 0.        ]],\n",
              "\n",
              "       [[1.        , 0.        , 0.        ],\n",
              "        [0.        , 0.7080726 , 0.        ],\n",
              "        [0.        , 0.02058449, 0.        ],\n",
              "        [0.        , 0.96990985, 0.        ]],\n",
              "\n",
              "       [[1.        , 0.        , 0.        ],\n",
              "        [0.        , 0.83244264, 0.        ],\n",
              "        [0.        , 0.21233912, 0.        ],\n",
              "        [0.        , 0.18182497, 0.        ]]], dtype=float32)"
            ]
          },
          "metadata": {
            "tags": []
          },
          "execution_count": 5
        }
      ]
    },
    {
      "metadata": {
        "id": "fP-Ji_HMr0LA",
        "colab_type": "code",
        "colab": {
          "base_uri": "https://localhost:8080/",
          "height": 187
        },
        "outputId": "64438dcb-e686-4a02-a0b8-2b1cf12676e2"
      },
      "cell_type": "code",
      "source": [
        "target_data=[]\n",
        "for i in range(dataX.shape[0]):\n",
        "    arr=dataX[i]\n",
        "    x=arr[:,1][1:]\n",
        "    aRec=[([0]*(seqLen+1))+[1]]\n",
        "    aRec=[]\n",
        "    for e in np.sort(x):\n",
        "        idx=list(x).index(e)\n",
        "        aRec+=[np.zeros(seqLen+1,dtype=np.float32)]\n",
        "        aRec[-1][idx+1]=1\n",
        "    aRec+=[np.array([1,0,0,0],dtype=np.float32)]\n",
        "    target_data+=[aRec]\n",
        "target_data=np.array(target_data)\n",
        "print(target_data.shape)\n",
        "target_data[0:2]"
      ],
      "execution_count": 6,
      "outputs": [
        {
          "output_type": "stream",
          "text": [
            "(6400, 4, 4)\n"
          ],
          "name": "stdout"
        },
        {
          "output_type": "execute_result",
          "data": {
            "text/plain": [
              "array([[[0., 1., 0., 0.],\n",
              "        [0., 0., 0., 1.],\n",
              "        [0., 0., 1., 0.],\n",
              "        [1., 0., 0., 0.]],\n",
              "\n",
              "       [[0., 0., 0., 1.],\n",
              "        [0., 0., 1., 0.],\n",
              "        [0., 1., 0., 0.],\n",
              "        [1., 0., 0., 0.]]], dtype=float32)"
            ]
          },
          "metadata": {
            "tags": []
          },
          "execution_count": 6
        }
      ]
    },
    {
      "metadata": {
        "id": "niif5bZUr0LD",
        "colab_type": "code",
        "colab": {
          "base_uri": "https://localhost:8080/",
          "height": 85
        },
        "outputId": "247f7e4b-6fe6-41d0-debd-0185fcf81cd1"
      },
      "cell_type": "code",
      "source": [
        "output_pred=target_data[0]\n",
        "output_pred"
      ],
      "execution_count": 7,
      "outputs": [
        {
          "output_type": "execute_result",
          "data": {
            "text/plain": [
              "array([[0., 1., 0., 0.],\n",
              "       [0., 0., 0., 1.],\n",
              "       [0., 0., 1., 0.],\n",
              "       [1., 0., 0., 0.]], dtype=float32)"
            ]
          },
          "metadata": {
            "tags": []
          },
          "execution_count": 7
        }
      ]
    },
    {
      "metadata": {
        "id": "w_jJ77nZr0LG",
        "colab_type": "code",
        "colab": {
          "base_uri": "https://localhost:8080/",
          "height": 34
        },
        "outputId": "7eb548e6-5851-48d7-e57d-bc532f85aaf2"
      },
      "cell_type": "code",
      "source": [
        "decoder_dummy_input=np.array([[0,0,1]],dtype=np.float32)\n",
        "decoder_dummy_input=tf.convert_to_tensor(decoder_dummy_input)\n",
        "decoder_dummy_input"
      ],
      "execution_count": 8,
      "outputs": [
        {
          "output_type": "execute_result",
          "data": {
            "text/plain": [
              "<tf.Tensor: id=0, shape=(1, 3), dtype=float32, numpy=array([[0., 0., 1.]], dtype=float32)>"
            ]
          },
          "metadata": {
            "tags": []
          },
          "execution_count": 8
        }
      ]
    },
    {
      "metadata": {
        "colab_type": "text",
        "id": "97GlpqgvL8PK"
      },
      "cell_type": "markdown",
      "source": [
        "## Encoder & Decoder Network"
      ]
    },
    {
      "metadata": {
        "colab_type": "code",
        "id": "uqAZrGBMTGDj",
        "colab": {}
      },
      "cell_type": "code",
      "source": [
        "class Encoder(tf.keras.Model):\n",
        "    def __init__(self, hidden_dimensions):\n",
        "        super(Encoder, self).__init__()\n",
        "        self.lstm = layers.LSTM(hidden_dimensions, return_sequences=True, return_state=True)\n",
        "        \n",
        "    def call(self, x):\n",
        "        output, state_h, state_c  = self.lstm(x)        \n",
        "        return output, [state_h, state_c]"
      ],
      "execution_count": 0,
      "outputs": []
    },
    {
      "metadata": {
        "colab_type": "code",
        "id": "tLNzTuJfWPhk",
        "colab": {}
      },
      "cell_type": "code",
      "source": [
        "class Decoder(tf.keras.Model):\n",
        "     def __init__(self, hidden_dimensions):\n",
        "        super(Decoder, self).__init__()\n",
        "        self.lstm = layers.LSTM(hidden_dimensions, return_sequences=True, return_state=True)\n",
        "     \n",
        "     def call(self, x, hidden_states):\n",
        "        dec_output, state_h, state_c  = self.lstm(x, initial_state=hidden_states)\n",
        "        # dec_output shape -> (batch_size, 1, hidden_dimension)\n",
        "\n",
        "        return dec_output, [state_h, state_c]"
      ],
      "execution_count": 0,
      "outputs": []
    },
    {
      "metadata": {
        "colab_type": "code",
        "id": "eTSf9SdkBjcM",
        "colab": {}
      },
      "cell_type": "code",
      "source": [
        "class Attention(tf.keras.Model):\n",
        "     def __init__(self, hidden_dimensions):\n",
        "        super(Attention, self).__init__()\n",
        "        # Note: Dense layer -> dot(input, kernel) -> so now Ui = vT . tanh(W1 . e + W2 . di)  becomes Ui = tanh(e . W1 + di . W2) . v\n",
        "        self.W1 = tf.keras.layers.Dense(hidden_dimensions, use_bias=False) # weights -> (256, 256)\n",
        "        self.W2 = tf.keras.layers.Dense(hidden_dimensions, use_bias=False) # weights -> (256, 256)\n",
        "        self.V = tf.keras.layers.Dense(1, use_bias=False) # weights -> (256, 1)\n",
        "        \n",
        "     \n",
        "     def call(self, encoder_outputs, dec_output):\n",
        "        # encoder_outputs shape -> (batch_size, input_sequence_length, hidden_dimension) -> (32, 9, 256)\n",
        "        # dec_output shape -> (batch_size, 1, hidden_dimension) -> (32, 1, 256)\n",
        "\n",
        "        # w1_e -> (*, 9, 256) * (*, 256, 256) -> (*, 9, 256)\n",
        "        w1_e = self.W1(encoder_outputs)\n",
        "        \n",
        "        # w2_e -> (*, 1, 256) * (*, 256, 256) -> (*, 1, 256)\n",
        "        w2_d = self.W2(dec_output)\n",
        "        \n",
        "        # tanh_output -> (*, 9, 256) + (*, 1, 256) -> (*, 9, 256)\n",
        "        tanh_output = tf.nn.tanh(w1_e + w2_d)\n",
        "        \n",
        "        # tanh_output -> (*, 9, 256) + (*, 256, 1) -> (*, 9, 1)\n",
        "        v_dot_tanh = self.V(tanh_output)\n",
        "        \n",
        "        # attention_weights -> (batch_size, input_sequence_length, 1) -> (32, 9, 1)\n",
        "        attention_weights = tf.nn.softmax(v_dot_tanh, axis=1)\n",
        "        \n",
        "        return tf.reshape(attention_weights, (attention_weights.shape[0], attention_weights.shape[1])) # (batch_size, input_sequence_length) -> (32, 9)"
      ],
      "execution_count": 0,
      "outputs": []
    },
    {
      "metadata": {
        "id": "tB0SDNl5r0LQ",
        "colab_type": "code",
        "colab": {}
      },
      "cell_type": "code",
      "source": [
        "hidden_dimensions=30"
      ],
      "execution_count": 0,
      "outputs": []
    },
    {
      "metadata": {
        "colab_type": "text",
        "id": "w_shAefxqfVs"
      },
      "cell_type": "markdown",
      "source": [
        "### Initialize encoder and decoder network"
      ]
    },
    {
      "metadata": {
        "colab_type": "code",
        "id": "xLlEdEXmVFGq",
        "colab": {}
      },
      "cell_type": "code",
      "source": [
        "encoder = Encoder(hidden_dimensions)\n",
        "decoder = Decoder(hidden_dimensions)\n",
        "attention = Attention(hidden_dimensions)"
      ],
      "execution_count": 0,
      "outputs": []
    },
    {
      "metadata": {
        "colab_type": "text",
        "id": "dUHrlclMqu7L"
      },
      "cell_type": "markdown",
      "source": [
        "### Setup tensorflow dataset for traning "
      ]
    },
    {
      "metadata": {
        "id": "2LPcWsMar0LU",
        "colab_type": "code",
        "colab": {}
      },
      "cell_type": "code",
      "source": [
        "dataset = tf.data.Dataset.from_tensor_slices((encoder_input_data,target_data))\n",
        "batches = 32\n",
        "dataset = dataset.shuffle(100).batch(32)"
      ],
      "execution_count": 0,
      "outputs": []
    },
    {
      "metadata": {
        "colab_type": "text",
        "id": "LkM2Lp_zq3VK"
      },
      "cell_type": "markdown",
      "source": [
        "#### Output of network before training"
      ]
    },
    {
      "metadata": {
        "id": "oZID1ngbr0LY",
        "colab_type": "code",
        "colab": {}
      },
      "cell_type": "code",
      "source": [
        "#Initialize values\n",
        "attention_vector_array = []\n",
        "final_output_sequence = []\n",
        "\n",
        "# expand the sequences to be batch size of 1 to be fed as input\n",
        "encoder_input = tf.expand_dims(input_encoder, 0)\n",
        "target_data = tf.expand_dims(output_pred, 0)"
      ],
      "execution_count": 0,
      "outputs": []
    },
    {
      "metadata": {
        "id": "8gSZko9tr0LZ",
        "colab_type": "code",
        "colab": {
          "base_uri": "https://localhost:8080/",
          "height": 102
        },
        "outputId": "862105d3-349d-4303-ca65-50253207882b"
      },
      "cell_type": "code",
      "source": [
        "encoder_input"
      ],
      "execution_count": 16,
      "outputs": [
        {
          "output_type": "execute_result",
          "data": {
            "text/plain": [
              "<tf.Tensor: id=20, shape=(1, 4, 3), dtype=float32, numpy=\n",
              "array([[[1.        , 0.        , 0.        ],\n",
              "        [0.        , 0.37454012, 0.        ],\n",
              "        [0.        , 0.9507143 , 0.        ],\n",
              "        [0.        , 0.7319939 , 0.        ]]], dtype=float32)>"
            ]
          },
          "metadata": {
            "tags": []
          },
          "execution_count": 16
        }
      ]
    },
    {
      "metadata": {
        "id": "Ylamn-bNr0Ld",
        "colab_type": "code",
        "colab": {
          "base_uri": "https://localhost:8080/",
          "height": 102
        },
        "outputId": "d52777ef-8779-49d9-b57a-186ee8048480"
      },
      "cell_type": "code",
      "source": [
        "target_data"
      ],
      "execution_count": 17,
      "outputs": [
        {
          "output_type": "execute_result",
          "data": {
            "text/plain": [
              "<tf.Tensor: id=23, shape=(1, 4, 4), dtype=float32, numpy=\n",
              "array([[[0., 1., 0., 0.],\n",
              "        [0., 0., 0., 1.],\n",
              "        [0., 0., 1., 0.],\n",
              "        [1., 0., 0., 0.]]], dtype=float32)>"
            ]
          },
          "metadata": {
            "tags": []
          },
          "execution_count": 17
        }
      ]
    },
    {
      "metadata": {
        "id": "9kGNqxIFr0Lg",
        "colab_type": "code",
        "colab": {
          "base_uri": "https://localhost:8080/",
          "height": 88
        },
        "outputId": "6acf0727-9ff3-4879-de41-a88a65e0dc86"
      },
      "cell_type": "code",
      "source": [
        "# encoder_input shapes -> (batch_size, input_sequence_length, input_dimension)\n",
        "# encoder_outputs shape -> (batch_size, input_sequence_length, hidden_dimension)\n",
        "encoder_outputs, encoder_states = encoder(encoder_input)"
      ],
      "execution_count": 18,
      "outputs": [
        {
          "output_type": "stream",
          "text": [
            "WARNING:tensorflow:From /usr/local/lib/python3.6/dist-packages/tensorflow/python/ops/resource_variable_ops.py:642: colocate_with (from tensorflow.python.framework.ops) is deprecated and will be removed in a future version.\n",
            "Instructions for updating:\n",
            "Colocations handled automatically by placer.\n"
          ],
          "name": "stdout"
        }
      ]
    },
    {
      "metadata": {
        "id": "b7ynWGLgr0Lk",
        "colab_type": "code",
        "colab": {
          "base_uri": "https://localhost:8080/",
          "height": 731
        },
        "outputId": "db33350c-2334-4e27-c702-8b022b323496"
      },
      "cell_type": "code",
      "source": [
        "encoder_outputs"
      ],
      "execution_count": 19,
      "outputs": [
        {
          "output_type": "execute_result",
          "data": {
            "text/plain": [
              "<tf.Tensor: id=704, shape=(1, 4, 30), dtype=float32, numpy=\n",
              "array([[[-5.01736924e-02,  3.16948779e-02,  4.12515774e-02,\n",
              "         -3.53498310e-02,  4.03320044e-02,  5.54589704e-02,\n",
              "          2.25627013e-02,  7.67772552e-03,  1.25065474e-02,\n",
              "          4.34280075e-02, -3.51917446e-02, -4.26367745e-02,\n",
              "          1.18723800e-02,  1.20848594e-02,  1.52343558e-02,\n",
              "          2.52943626e-03,  3.65303047e-02, -2.87996512e-02,\n",
              "         -3.56858447e-02, -3.98900062e-02, -3.35637480e-02,\n",
              "          3.72589752e-02,  4.25086394e-02,  5.63450158e-04,\n",
              "          4.19360884e-02,  2.39714514e-02,  3.57869896e-03,\n",
              "         -1.72660686e-02,  1.52625805e-02,  3.94967645e-02],\n",
              "        [-2.22421326e-02,  2.47765277e-02,  3.65987234e-02,\n",
              "         -4.23405543e-02,  1.13524478e-02,  3.23084295e-02,\n",
              "          1.95754655e-02, -9.81311128e-03, -7.96766859e-03,\n",
              "          3.69066931e-02, -4.04213220e-02, -3.13852206e-02,\n",
              "          2.37852950e-02,  3.13127926e-03, -5.76501770e-05,\n",
              "          9.14086215e-03,  4.37631737e-03, -2.99506970e-02,\n",
              "         -3.45080420e-02, -4.46596146e-02, -1.02595314e-02,\n",
              "          4.62127067e-02,  4.93345298e-02,  7.97919463e-03,\n",
              "          2.17703842e-02,  2.76661627e-02,  1.46138901e-02,\n",
              "         -2.45807022e-02,  1.55701367e-02,  4.59963679e-02],\n",
              "        [ 8.66505317e-03,  2.86554862e-02,  3.18578631e-02,\n",
              "         -7.33130276e-02, -4.35565412e-02,  1.94004998e-02,\n",
              "          1.60721354e-02, -4.54331934e-02, -3.86707820e-02,\n",
              "          4.41719554e-02, -6.83179200e-02, -2.92353090e-02,\n",
              "          5.09941764e-02, -6.88682962e-03, -1.39657762e-02,\n",
              "          2.46766843e-02, -4.06503417e-02, -4.75885384e-02,\n",
              "         -5.39057106e-02, -7.68605992e-02,  2.67241821e-02,\n",
              "          8.01792219e-02,  6.70465752e-02,  1.65961497e-02,\n",
              "         -6.33274950e-03,  3.19205895e-02,  3.69472168e-02,\n",
              "         -4.57401611e-02,  1.08126206e-02,  7.60974139e-02],\n",
              "        [ 2.44398303e-02,  3.20355855e-02,  2.15802602e-02,\n",
              "         -9.16588530e-02, -7.11324364e-02,  9.00421944e-03,\n",
              "          1.56689771e-02, -5.97160198e-02, -4.91048656e-02,\n",
              "          4.00895737e-02, -7.52905011e-02, -1.76418740e-02,\n",
              "          6.61576614e-02, -1.01019060e-02, -1.68897379e-02,\n",
              "          3.57778445e-02, -5.76706156e-02, -4.83256727e-02,\n",
              "         -7.00005069e-02, -9.08174068e-02,  4.36393470e-02,\n",
              "          9.21928734e-02,  7.15480670e-02,  2.03076061e-02,\n",
              "         -1.58893298e-02,  2.62703821e-02,  4.58792970e-02,\n",
              "         -5.89044616e-02,  7.21261650e-03,  8.86569768e-02]]],\n",
              "      dtype=float32)>"
            ]
          },
          "metadata": {
            "tags": []
          },
          "execution_count": 19
        }
      ]
    },
    {
      "metadata": {
        "id": "mOizExHir0Lm",
        "colab_type": "code",
        "colab": {
          "base_uri": "https://localhost:8080/",
          "height": 289
        },
        "outputId": "45c98402-0d19-4f0d-f003-9ece1fe5ac3d"
      },
      "cell_type": "code",
      "source": [
        "encoder_states"
      ],
      "execution_count": 20,
      "outputs": [
        {
          "output_type": "execute_result",
          "data": {
            "text/plain": [
              "[<tf.Tensor: id=690, shape=(1, 30), dtype=float32, numpy=\n",
              " array([[ 0.02443983,  0.03203559,  0.02158026, -0.09165885, -0.07113244,\n",
              "          0.00900422,  0.01566898, -0.05971602, -0.04910487,  0.04008957,\n",
              "         -0.0752905 , -0.01764187,  0.06615766, -0.01010191, -0.01688974,\n",
              "          0.03577784, -0.05767062, -0.04832567, -0.07000051, -0.09081741,\n",
              "          0.04363935,  0.09219287,  0.07154807,  0.02030761, -0.01588933,\n",
              "          0.02627038,  0.0458793 , -0.05890446,  0.00721262,  0.08865698]],\n",
              "       dtype=float32)>,\n",
              " <tf.Tensor: id=673, shape=(1, 30), dtype=float32, numpy=\n",
              " array([[ 0.05119281,  0.06086827,  0.04373739, -0.19406971, -0.14232066,\n",
              "          0.01806413,  0.03184876, -0.12546046, -0.09462173,  0.07565732,\n",
              "         -0.15041617, -0.03344038,  0.12792736, -0.01976309, -0.03190866,\n",
              "          0.06723674, -0.1205032 , -0.09313053, -0.13895768, -0.18442363,\n",
              "          0.08514079,  0.18679911,  0.14010568,  0.04275992, -0.03289884,\n",
              "          0.05114478,  0.09684512, -0.12279087,  0.01411788,  0.18446338]],\n",
              "       dtype=float32)>]"
            ]
          },
          "metadata": {
            "tags": []
          },
          "execution_count": 20
        }
      ]
    },
    {
      "metadata": {
        "id": "MGUBBYqyr0Lr",
        "colab_type": "code",
        "colab": {
          "base_uri": "https://localhost:8080/",
          "height": 34
        },
        "outputId": "25c04235-ec41-4bf8-f814-5be09e3e182e"
      },
      "cell_type": "code",
      "source": [
        "# first decoder input '=>'\n",
        "dec_input = tf.expand_dims(decoder_dummy_input, 1)\n",
        "dec_input"
      ],
      "execution_count": 21,
      "outputs": [
        {
          "output_type": "execute_result",
          "data": {
            "text/plain": [
              "<tf.Tensor: id=709, shape=(1, 1, 3), dtype=float32, numpy=array([[[0., 0., 1.]]], dtype=float32)>"
            ]
          },
          "metadata": {
            "tags": []
          },
          "execution_count": 21
        }
      ]
    },
    {
      "metadata": {
        "id": "sLHK34ror0Lu",
        "colab_type": "code",
        "colab": {}
      },
      "cell_type": "code",
      "source": [
        "# loading the final encoder states to decoder network as initial hidden states\n",
        "decoder_states = encoder_states"
      ],
      "execution_count": 0,
      "outputs": []
    },
    {
      "metadata": {
        "scrolled": false,
        "id": "2-EnOrVFr0Lw",
        "colab_type": "code",
        "colab": {
          "base_uri": "https://localhost:8080/",
          "height": 323
        },
        "outputId": "a0c139bb-2adb-4cf7-96c0-219f6e75f8b4"
      },
      "cell_type": "code",
      "source": [
        "print(\"\\nPrediction for \")\n",
        "for i in range(0, encoder_input.shape[1]):\n",
        "    decoder_output, decoder_states = decoder(dec_input, decoder_states)\n",
        "    target_prediction = attention(encoder_outputs, decoder_output)\n",
        "    \n",
        "    # Save the attention vector\n",
        "    attention_vector_array.append(target_prediction.numpy()[0])\n",
        "    final_output_sequence.append(np.round(target_prediction.numpy()[0])) # why use np.round here ?? why not np.argmax ??\n",
        "    print(\"%dth position -> %d -> %s\"%(i, np.argmax(target_prediction), str(encoder_input[:,np.argmax(target_prediction)])))\n",
        "    \n",
        "    # pass the predicted value as next input state to decoder network\n",
        "    dec_input = tf.expand_dims(encoder_input[:, np.argmax(target_prediction)], 1) # works only for one input combination\n",
        "\n",
        "print(\"\\nTarget output values (softmax values over the input sequence size)\")\n",
        "print(target_data.numpy()[0])\n",
        "print(\"\\nPredicted output values\")\n",
        "print(np.array(final_output_sequence))"
      ],
      "execution_count": 23,
      "outputs": [
        {
          "output_type": "stream",
          "text": [
            "\n",
            "Prediction for \n",
            "0th position -> 0 -> tf.Tensor([[1. 0. 0.]], shape=(1, 3), dtype=float32)\n",
            "1th position -> 0 -> tf.Tensor([[1. 0. 0.]], shape=(1, 3), dtype=float32)\n",
            "2th position -> 0 -> tf.Tensor([[1. 0. 0.]], shape=(1, 3), dtype=float32)\n",
            "3th position -> 0 -> tf.Tensor([[1. 0. 0.]], shape=(1, 3), dtype=float32)\n",
            "\n",
            "Target output values (softmax values over the input sequence size)\n",
            "[[0. 1. 0. 0.]\n",
            " [0. 0. 0. 1.]\n",
            " [0. 0. 1. 0.]\n",
            " [1. 0. 0. 0.]]\n",
            "\n",
            "Predicted output values\n",
            "[[0. 0. 0. 0.]\n",
            " [0. 0. 0. 0.]\n",
            " [0. 0. 0. 0.]\n",
            " [0. 0. 0. 0.]]\n"
          ],
          "name": "stdout"
        }
      ]
    },
    {
      "metadata": {
        "colab_type": "text",
        "id": "01MfSZZoMNwM"
      },
      "cell_type": "markdown",
      "source": [
        "### Train Model"
      ]
    },
    {
      "metadata": {
        "colab_type": "code",
        "id": "WGwifkQinyC4",
        "colab": {}
      },
      "cell_type": "code",
      "source": [
        "optimizer = tf.train.AdamOptimizer()"
      ],
      "execution_count": 0,
      "outputs": []
    },
    {
      "metadata": {
        "colab_type": "code",
        "id": "9uolR2wiKDUQ",
        "outputId": "d54ffec0-0765-4bda-faf6-a2884abdbba1",
        "scrolled": true,
        "colab": {
          "base_uri": "https://localhost:8080/",
          "height": 1530
        }
      },
      "cell_type": "code",
      "source": [
        "epochs = 4 # was over fitting beyond this\n",
        "loss_history = []\n",
        "total_attention = []\n",
        "for epoch in range(epochs):\n",
        "    # encoder_input shapes -> (batch_size, input_sequence_length, input_dimension)\n",
        "    print(\"NEW EPOCH:\",epoch)\n",
        "    for (batch, (encoder_input, target_data)) in enumerate(dataset):\n",
        "        loss = 0\n",
        "        with tf.GradientTape() as tape:\n",
        "            encoder_outputs, encoder_states = encoder(encoder_input)\n",
        "            # encoder_outputs shape -> (batch_size, input_sequence_length, hidden_state_dimension) -> (32, 9, 256)\n",
        "            # encoder states shape -> (batch_size, hidden_state_dimension) -> (32, 256)\n",
        "    \n",
        "            # first decoder input '=>'\n",
        "            # dec_input shape -> (batch_size, input_lenght=1, input_dimension) -> (32, 1, 64)\n",
        "            # dec_input = tf.expand_dims(encoder_input[:, 0], 1) # The '=>' symbol loaded as input\n",
        "            dec_input = tf.tile(tf.expand_dims(decoder_dummy_input, 1),tf.convert_to_tensor(np.array([batches,1,1])))\n",
        "            \n",
        "            # loading the final encoder states to decoder network as initial hidden states\n",
        "            # decoder states shape -> (batch_size, hidden_state_dimension) -> (32, 256)\n",
        "            decoder_states = encoder_states\n",
        "\n",
        "            # track attention over each output sequence\n",
        "            attention_vector_array = []\n",
        "            \n",
        "            # iterrate over the times of input sequence size or till the output points to '=>' symbol\n",
        "            for i in range(0, encoder_input.shape[1]):\n",
        "                # decoder outputs shape -> (batch_size, input_lenght=1, hidden_state_dimension) -> (32, 1, 256)\n",
        "                # decoder states shape -> (batch_size, hidden_state_dimension) -> (32, 256)\n",
        "                decoder_output, decoder_states = decoder(dec_input, decoder_states)\n",
        "\n",
        "                # target prediction -> (batch_size, input_sequence_length) -> (32, 9)\n",
        "                # target prediction points to one of the input sequence element -> element with highest value\n",
        "                target_prediction = attention(encoder_outputs, decoder_output)\n",
        "\n",
        "                if batch % 10 == 0:\n",
        "                    attention_vector_array.append(target_prediction.numpy()[0])\n",
        "\n",
        "                # used for training the network by using the target data\n",
        "                tar_data = target_data[:, i]\n",
        "                \n",
        "                tarCounter=0\n",
        "                ei_slice_stack=[]\n",
        "                for tar_data_slice in tar_data:\n",
        "                    ei_slice_stack+=[encoder_input[tarCounter,np.argmax(tar_data_slice)]]\n",
        "                ei_slice_stack=tf.convert_to_tensor(np.array(ei_slice_stack,dtype=np.float32))\n",
        "                    \n",
        "                    \n",
        "                \n",
        "                # load the input state to decoder network for next prediction\n",
        "                dec_input = tf.expand_dims(ei_slice_stack, 1) # Works only for one input combination\n",
        "\n",
        "                # loss value calculated as categorical crossentropy\n",
        "                loss += tf.reduce_mean(tf.keras.backend.categorical_crossentropy(tar_data, target_prediction))\n",
        "        batch_loss = (loss / batches)\n",
        "        if batch % 10 == 0:\n",
        "            total_attention.append(attention_vector_array)\n",
        "            print(\"\\tEpoch {:03d}/{:03d}: Loss at step {:02d}: {:.9f}\".format((epoch+1), epochs, batch, tf.reduce_mean(tf.keras.backend.categorical_crossentropy(tar_data, target_prediction))))\n",
        "        # store the loss history \n",
        "        loss_history.append(batch_loss.numpy())\n",
        "        # fetch the trainable variables\n",
        "        variables = encoder.variables + decoder.variables\n",
        "        # calculate the gradient\n",
        "        grads = tape.gradient(loss, variables)\n",
        "        # update the weights of the network\n",
        "        optimizer.apply_gradients(zip(grads, variables), global_step=tf.train.get_or_create_global_step())\n",
        "    print(\"Epoch {:03d}/{:03d} completed \\t - \\tBatch loss: {:.9f}\".format((epoch+1), epochs, tf.reduce_mean(tf.keras.backend.categorical_crossentropy(tar_data, target_prediction))))\n",
        "print(\"Final loss: {:.9f}\".format(tf.reduce_mean(tf.keras.backend.categorical_crossentropy(tar_data, target_prediction))))"
      ],
      "execution_count": 25,
      "outputs": [
        {
          "output_type": "stream",
          "text": [
            "NEW EPOCH: 0\n",
            "\tEpoch 001/004: Loss at step 00: 1.365067959\n",
            "\tEpoch 001/004: Loss at step 10: 1.394328713\n",
            "\tEpoch 001/004: Loss at step 20: 1.381916761\n",
            "\tEpoch 001/004: Loss at step 30: 1.390063286\n",
            "\tEpoch 001/004: Loss at step 40: 1.389225364\n",
            "\tEpoch 001/004: Loss at step 50: 1.374649882\n",
            "\tEpoch 001/004: Loss at step 60: 1.364059448\n",
            "\tEpoch 001/004: Loss at step 70: 1.316788793\n",
            "\tEpoch 001/004: Loss at step 80: 1.266419768\n",
            "\tEpoch 001/004: Loss at step 90: 1.196208954\n",
            "\tEpoch 001/004: Loss at step 100: 1.060602069\n",
            "\tEpoch 001/004: Loss at step 110: 0.957106352\n",
            "\tEpoch 001/004: Loss at step 120: 0.847798467\n",
            "\tEpoch 001/004: Loss at step 130: 0.774947643\n",
            "\tEpoch 001/004: Loss at step 140: 0.697331131\n",
            "\tEpoch 001/004: Loss at step 150: 0.653275430\n",
            "\tEpoch 001/004: Loss at step 160: 0.617102385\n",
            "\tEpoch 001/004: Loss at step 170: 0.551599145\n",
            "\tEpoch 001/004: Loss at step 180: 0.507576168\n",
            "\tEpoch 001/004: Loss at step 190: 0.494732380\n",
            "Epoch 001/004 completed \t - \tBatch loss: 0.490682870\n",
            "NEW EPOCH: 1\n",
            "\tEpoch 002/004: Loss at step 00: 0.473555803\n",
            "\tEpoch 002/004: Loss at step 10: 0.445723176\n",
            "\tEpoch 002/004: Loss at step 20: 0.421553433\n",
            "\tEpoch 002/004: Loss at step 30: 0.406043023\n",
            "\tEpoch 002/004: Loss at step 40: 0.398641169\n",
            "\tEpoch 002/004: Loss at step 50: 0.377864122\n",
            "\tEpoch 002/004: Loss at step 60: 0.370969534\n",
            "\tEpoch 002/004: Loss at step 70: 0.361075640\n",
            "\tEpoch 002/004: Loss at step 80: 0.347664058\n",
            "\tEpoch 002/004: Loss at step 90: 0.340813279\n",
            "\tEpoch 002/004: Loss at step 100: 0.336871564\n",
            "\tEpoch 002/004: Loss at step 110: 0.327919841\n",
            "\tEpoch 002/004: Loss at step 120: 0.317969918\n",
            "\tEpoch 002/004: Loss at step 130: 0.311302364\n",
            "\tEpoch 002/004: Loss at step 140: 0.306342304\n",
            "\tEpoch 002/004: Loss at step 150: 0.304475427\n",
            "\tEpoch 002/004: Loss at step 160: 0.298557937\n",
            "\tEpoch 002/004: Loss at step 170: 0.289060175\n",
            "\tEpoch 002/004: Loss at step 180: 0.284180582\n",
            "\tEpoch 002/004: Loss at step 190: 0.285765588\n",
            "Epoch 002/004 completed \t - \tBatch loss: 0.282110959\n",
            "NEW EPOCH: 2\n",
            "\tEpoch 003/004: Loss at step 00: 0.280491471\n",
            "\tEpoch 003/004: Loss at step 10: 0.272629291\n",
            "\tEpoch 003/004: Loss at step 20: 0.269142509\n",
            "\tEpoch 003/004: Loss at step 30: 0.265915900\n",
            "\tEpoch 003/004: Loss at step 40: 0.265653193\n",
            "\tEpoch 003/004: Loss at step 50: 0.259718895\n",
            "\tEpoch 003/004: Loss at step 60: 0.255950868\n",
            "\tEpoch 003/004: Loss at step 70: 0.253684580\n",
            "\tEpoch 003/004: Loss at step 80: 0.249209389\n",
            "\tEpoch 003/004: Loss at step 90: 0.246559888\n",
            "\tEpoch 003/004: Loss at step 100: 0.244865239\n",
            "\tEpoch 003/004: Loss at step 110: 0.239471778\n",
            "\tEpoch 003/004: Loss at step 120: 0.235421807\n",
            "\tEpoch 003/004: Loss at step 130: 0.232099071\n",
            "\tEpoch 003/004: Loss at step 140: 0.229982942\n",
            "\tEpoch 003/004: Loss at step 150: 0.229302257\n",
            "\tEpoch 003/004: Loss at step 160: 0.226304948\n",
            "\tEpoch 003/004: Loss at step 170: 0.221062303\n",
            "\tEpoch 003/004: Loss at step 180: 0.219312578\n",
            "\tEpoch 003/004: Loss at step 190: 0.221714929\n",
            "Epoch 003/004 completed \t - \tBatch loss: 0.216655612\n",
            "NEW EPOCH: 3\n",
            "\tEpoch 004/004: Loss at step 00: 0.214997053\n",
            "\tEpoch 004/004: Loss at step 10: 0.211093485\n",
            "\tEpoch 004/004: Loss at step 20: 0.211657986\n",
            "\tEpoch 004/004: Loss at step 30: 0.208169907\n",
            "\tEpoch 004/004: Loss at step 40: 0.209536165\n",
            "\tEpoch 004/004: Loss at step 50: 0.206441298\n",
            "\tEpoch 004/004: Loss at step 60: 0.204628557\n",
            "\tEpoch 004/004: Loss at step 70: 0.206839293\n",
            "\tEpoch 004/004: Loss at step 80: 0.202694893\n",
            "\tEpoch 004/004: Loss at step 90: 0.201791212\n",
            "\tEpoch 004/004: Loss at step 100: 0.201673493\n",
            "\tEpoch 004/004: Loss at step 110: 0.199090123\n",
            "\tEpoch 004/004: Loss at step 120: 0.198236346\n",
            "\tEpoch 004/004: Loss at step 130: 0.196457922\n",
            "\tEpoch 004/004: Loss at step 140: 0.196844041\n",
            "\tEpoch 004/004: Loss at step 150: 0.197719544\n",
            "\tEpoch 004/004: Loss at step 160: 0.196451813\n",
            "\tEpoch 004/004: Loss at step 170: 0.191676795\n",
            "\tEpoch 004/004: Loss at step 180: 0.191306412\n",
            "\tEpoch 004/004: Loss at step 190: 0.196683064\n",
            "Epoch 004/004 completed \t - \tBatch loss: 0.192374036\n",
            "Final loss: 0.192374036\n"
          ],
          "name": "stdout"
        }
      ]
    },
    {
      "metadata": {
        "colab_type": "text",
        "id": "0fcEN_jWXrbk"
      },
      "cell_type": "markdown",
      "source": [
        "#### Attention plot over the input sequence"
      ]
    },
    {
      "metadata": {
        "colab_type": "code",
        "id": "4vJ1vMKzSevq",
        "outputId": "571d063e-1e1e-49da-f955-a2881c80c9bd",
        "scrolled": true,
        "colab": {
          "base_uri": "https://localhost:8080/",
          "height": 642
        }
      },
      "cell_type": "code",
      "source": [
        "figstep=20\n",
        "fig = plt.figure(figsize=(250,250))\n",
        "for i in range(1, len(total_attention),figstep):\n",
        "    fig.add_subplot(len(total_attention)/4, len(total_attention)/4, int(i/figstep)+1).matshow(np.array(total_attention[i-1]), cmap='YlGn')\n",
        "plt.show()"
      ],
      "execution_count": 26,
      "outputs": [
        {
          "output_type": "display_data",
          "data": {
            "image/png": "[encoded data removed]",
            "text/plain": [
              "<Figure size 18000x18000 with 4 Axes>"
            ]
          },
          "metadata": {
            "tags": []
          }
        }
      ]
    },
    {
      "metadata": {
        "colab_type": "text",
        "id": "0GCUvlzuXxya"
      },
      "cell_type": "markdown",
      "source": [
        "### Loss plot over the entire training sequence"
      ]
    },
    {
      "metadata": {
        "colab_type": "code",
        "id": "miigFwpMW_lO",
        "outputId": "5b7d55a8-781a-47f3-8cd1-e6a0fbc2a29f",
        "colab": {
          "base_uri": "https://localhost:8080/",
          "height": 283
        }
      },
      "cell_type": "code",
      "source": [
        "plt.plot(loss_history)\n",
        "\n",
        "plt.ylabel('loss value')\n",
        "plt.xlabel('batches')\n",
        "\n",
        "plt.show()"
      ],
      "execution_count": 27,
      "outputs": [
        {
          "output_type": "display_data",
          "data": {
            "image/png": "[encoded data removed]",
            "text/plain": [
              "<Figure size 432x288 with 1 Axes>"
            ]
          },
          "metadata": {
            "tags": []
          }
        }
      ]
    },
    {
      "metadata": {
        "colab_type": "text",
        "id": "dWkPK4bKxwuN"
      },
      "cell_type": "markdown",
      "source": [
        "### Inference Model"
      ]
    },
    {
      "metadata": {
        "colab_type": "text",
        "id": "7wrftwSNLy-4"
      },
      "cell_type": "markdown",
      "source": [
        "#### Output of network before training"
      ]
    },
    {
      "metadata": {
        "id": "BiuMMbnrr0L_",
        "colab_type": "code",
        "colab": {
          "base_uri": "https://localhost:8080/",
          "height": 170
        },
        "outputId": "59bf6dd0-cb2a-454b-fb54-6d9f09850c2e"
      },
      "cell_type": "code",
      "source": [
        "input_encoder[1,1]=0.1\n",
        "input_encoder[2,1]=0.9\n",
        "input_encoder[3,1]=0.5\n",
        "print(input_encoder)\n",
        "target_data1=[]\n",
        "arr=input_encoder\n",
        "x=arr[:,1][1:]\n",
        "aRec=[([0]*(seqLen+1))+[1]]\n",
        "aRec=[]\n",
        "for e in np.sort(x):\n",
        "    idx=list(x).index(e)\n",
        "    aRec+=[np.zeros(seqLen+1,dtype=np.float32)]\n",
        "    aRec[-1][idx+1]=1\n",
        "aRec+=[np.array([1,0,0,0],dtype=np.float32)]\n",
        "target_data1+=[aRec]\n",
        "target_data1=np.array(target_data1)\n",
        "print(target_data1.shape)\n",
        "output_pred=target_data1\n",
        "output_pred"
      ],
      "execution_count": 28,
      "outputs": [
        {
          "output_type": "stream",
          "text": [
            "[[1.  0.  0. ]\n",
            " [0.  0.1 0. ]\n",
            " [0.  0.9 0. ]\n",
            " [0.  0.5 0. ]]\n",
            "(1, 4, 4)\n"
          ],
          "name": "stdout"
        },
        {
          "output_type": "execute_result",
          "data": {
            "text/plain": [
              "array([[[0., 1., 0., 0.],\n",
              "        [0., 0., 0., 1.],\n",
              "        [0., 0., 1., 0.],\n",
              "        [1., 0., 0., 0.]]], dtype=float32)"
            ]
          },
          "metadata": {
            "tags": []
          },
          "execution_count": 28
        }
      ]
    },
    {
      "metadata": {
        "colab_type": "code",
        "id": "uTnwRFAFJuN5",
        "outputId": "fe093dde-f5db-492f-d4f9-b2bebe4075ea",
        "colab": {
          "base_uri": "https://localhost:8080/",
          "height": 323
        }
      },
      "cell_type": "code",
      "source": [
        "#Initialize values\n",
        "attention_vector_array = []\n",
        "final_output_sequence = []\n",
        "\n",
        "# expand the sequences to be batch size of 1 to be fed as input\n",
        "encoder_input = tf.expand_dims(input_encoder, 0)\n",
        "target_data = tf.expand_dims(output_pred, 0)\n",
        "\n",
        "# encoder_input shapes -> (number_of_inputs, input_sequence_length, input_dimension)\n",
        "# encoder_outputs shape -> (number_of_inputs, input_sequence_length, hidden_dimension)\n",
        "encoder_outputs, encoder_states = encoder(encoder_input)\n",
        "\n",
        "# first decoder input '=>'\n",
        "dec_input = tf.expand_dims(encoder_input[:, 0], 1)\n",
        "\n",
        "# loading the final encoder states to decoder network as initial hidden states\n",
        "decoder_states = encoder_states\n",
        "\n",
        "print(\"\\nPrediction for \")\n",
        "for i in range(0, encoder_input.shape[1]):\n",
        "#     print()\n",
        "    decoder_output, decoder_states = decoder(dec_input, decoder_states)\n",
        "    target_prediction = attention(encoder_outputs, decoder_output)\n",
        "#     print(target_prediction)\n",
        "    # Save the attention vector\n",
        "    attention_vector_array.append(target_prediction.numpy()[0])\n",
        "    o=np.argmax(target_prediction.numpy()[0])\n",
        "    x=np.zeros((4))\n",
        "    x[o]=1\n",
        "    final_output_sequence.append(x)\n",
        "    print(\"%dth position -> %d -> %s\"%(i, np.argmax(target_prediction), str(encoder_input[:,np.argmax(target_prediction)])))\n",
        "\n",
        "    # pass the predicted value as next input state to decoder network\n",
        "    dec_input = tf.expand_dims(encoder_input[:, np.argmax(target_prediction)], 1) # works only for one input combination\n",
        "\n",
        "print(\"\\nTarget output values (softmax values over the input sequence size)\")\n",
        "print(target_data.numpy()[0])\n",
        "print(\"\\nPredicted output values\")\n",
        "print(np.array(final_output_sequence))"
      ],
      "execution_count": 29,
      "outputs": [
        {
          "output_type": "stream",
          "text": [
            "\n",
            "Prediction for \n",
            "0th position -> 1 -> tf.Tensor([[0.  0.1 0. ]], shape=(1, 3), dtype=float32)\n",
            "1th position -> 2 -> tf.Tensor([[0.  0.9 0. ]], shape=(1, 3), dtype=float32)\n",
            "2th position -> 2 -> tf.Tensor([[0.  0.9 0. ]], shape=(1, 3), dtype=float32)\n",
            "3th position -> 0 -> tf.Tensor([[1. 0. 0.]], shape=(1, 3), dtype=float32)\n",
            "\n",
            "Target output values (softmax values over the input sequence size)\n",
            "[[[0. 1. 0. 0.]\n",
            "  [0. 0. 0. 1.]\n",
            "  [0. 0. 1. 0.]\n",
            "  [1. 0. 0. 0.]]]\n",
            "\n",
            "Predicted output values\n",
            "[[0. 1. 0. 0.]\n",
            " [0. 0. 1. 0.]\n",
            " [0. 0. 1. 0.]\n",
            " [1. 0. 0. 0.]]\n"
          ],
          "name": "stdout"
        }
      ]
    },
    {
      "metadata": {
        "colab_type": "code",
        "id": "Llvy5120OSGX",
        "colab": {
          "base_uri": "https://localhost:8080/",
          "height": 85
        },
        "outputId": "98e935df-ce7a-44fb-b70a-dee18330802a"
      },
      "cell_type": "code",
      "source": [
        "target_prediction.numpy().T"
      ],
      "execution_count": 30,
      "outputs": [
        {
          "output_type": "execute_result",
          "data": {
            "text/plain": [
              "array([[0.81595695],\n",
              "       [0.07664619],\n",
              "       [0.05912579],\n",
              "       [0.04827117]], dtype=float32)"
            ]
          },
          "metadata": {
            "tags": []
          },
          "execution_count": 30
        }
      ]
    },
    {
      "metadata": {
        "colab_type": "code",
        "id": "Szl9S7PwjGVn",
        "outputId": "04468302-e1a5-4da1-bda5-00d5badb223d",
        "colab": {
          "base_uri": "https://localhost:8080/",
          "height": 85
        }
      },
      "cell_type": "code",
      "source": [
        "np.array(attention_vector_array)"
      ],
      "execution_count": 31,
      "outputs": [
        {
          "output_type": "execute_result",
          "data": {
            "text/plain": [
              "array([[0.05136254, 0.33156893, 0.3013986 , 0.31566995],\n",
              "       [0.03330924, 0.31449947, 0.33630517, 0.31588605],\n",
              "       [0.04223281, 0.28690168, 0.37474245, 0.29612306],\n",
              "       [0.81595695, 0.07664619, 0.05912579, 0.04827117]], dtype=float32)"
            ]
          },
          "metadata": {
            "tags": []
          },
          "execution_count": 31
        }
      ]
    },
    {
      "metadata": {
        "colab_type": "text",
        "id": "5EkUHT0HHAhV"
      },
      "cell_type": "markdown",
      "source": [
        "References:\n",
        "\n",
        "* https://arxiv.org/pdf/1506.03134.pdf\n",
        "* https://www.tensorflow.org/api_docs/python/tf/keras/layers/Dense"
      ]
    }
  ]
}